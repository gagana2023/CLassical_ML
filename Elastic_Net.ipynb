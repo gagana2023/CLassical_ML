{
 "cells": [
  {
   "cell_type": "code",
   "execution_count": 1,
   "id": "cb6580db-7915-4457-84c3-ebaaef2fb2d0",
   "metadata": {},
   "outputs": [],
   "source": [
    "import pandas as pd\n",
    "import numpy as np\n",
    "import matplotlib.pyplot as plt\n",
    "from sklearn.linear_model import ElasticNetCV\n",
    "from sklearn.model_selection import train_test_split\n",
    "from sklearn.preprocessing import StandardScaler\n",
    "from sklearn.metrics import mean_squared_error, mean_absolute_error, r2_score\n"
   ]
  },
  {
   "cell_type": "code",
   "execution_count": 2,
   "id": "3296bb0e-f56e-4078-be94-ed7630632db2",
   "metadata": {},
   "outputs": [],
   "source": [
    "# Load dataset\n",
    "df = pd.read_csv(\"C:\\\\Users\\\\Hp\\\\Downloads\\\\Salary_dataset.csv\")  "
   ]
  },
  {
   "cell_type": "code",
   "execution_count": 4,
   "id": "e1281a2e-41f6-467d-93e1-a4686c5ec03f",
   "metadata": {},
   "outputs": [
    {
     "data": {
      "text/html": [
       "<div>\n",
       "<style scoped>\n",
       "    .dataframe tbody tr th:only-of-type {\n",
       "        vertical-align: middle;\n",
       "    }\n",
       "\n",
       "    .dataframe tbody tr th {\n",
       "        vertical-align: top;\n",
       "    }\n",
       "\n",
       "    .dataframe thead th {\n",
       "        text-align: right;\n",
       "    }\n",
       "</style>\n",
       "<table border=\"1\" class=\"dataframe\">\n",
       "  <thead>\n",
       "    <tr style=\"text-align: right;\">\n",
       "      <th></th>\n",
       "      <th>Unnamed: 0</th>\n",
       "      <th>YearsExperience</th>\n",
       "      <th>Salary</th>\n",
       "    </tr>\n",
       "  </thead>\n",
       "  <tbody>\n",
       "    <tr>\n",
       "      <th>0</th>\n",
       "      <td>0</td>\n",
       "      <td>1.2</td>\n",
       "      <td>39344.0</td>\n",
       "    </tr>\n",
       "    <tr>\n",
       "      <th>1</th>\n",
       "      <td>1</td>\n",
       "      <td>1.4</td>\n",
       "      <td>46206.0</td>\n",
       "    </tr>\n",
       "    <tr>\n",
       "      <th>2</th>\n",
       "      <td>2</td>\n",
       "      <td>1.6</td>\n",
       "      <td>37732.0</td>\n",
       "    </tr>\n",
       "    <tr>\n",
       "      <th>3</th>\n",
       "      <td>3</td>\n",
       "      <td>2.1</td>\n",
       "      <td>43526.0</td>\n",
       "    </tr>\n",
       "    <tr>\n",
       "      <th>4</th>\n",
       "      <td>4</td>\n",
       "      <td>2.3</td>\n",
       "      <td>39892.0</td>\n",
       "    </tr>\n",
       "  </tbody>\n",
       "</table>\n",
       "</div>"
      ],
      "text/plain": [
       "   Unnamed: 0  YearsExperience   Salary\n",
       "0           0              1.2  39344.0\n",
       "1           1              1.4  46206.0\n",
       "2           2              1.6  37732.0\n",
       "3           3              2.1  43526.0\n",
       "4           4              2.3  39892.0"
      ]
     },
     "execution_count": 4,
     "metadata": {},
     "output_type": "execute_result"
    }
   ],
   "source": [
    "df.head()\n"
   ]
  },
  {
   "cell_type": "code",
   "execution_count": 5,
   "id": "37b0615b-6a64-4e5d-b2ba-1db6329777f1",
   "metadata": {},
   "outputs": [],
   "source": [
    "# select Feature and Target\n",
    "X = df.drop(columns=['Salary']) \n",
    "y = df['Salary']"
   ]
  },
  {
   "cell_type": "code",
   "execution_count": 6,
   "id": "8e98346a-8e53-4b23-afd0-a44f3230532f",
   "metadata": {},
   "outputs": [],
   "source": [
    "#  Train-test split\n",
    "X_train, X_test, y_train, y_test = train_test_split(X, y, test_size=0.2, random_state=42)"
   ]
  },
  {
   "cell_type": "code",
   "execution_count": 7,
   "id": "0f85d9ac-81c8-42a1-9eac-9fb4f37f2f1e",
   "metadata": {},
   "outputs": [],
   "source": [
    "# 🔄 Feature scaling\n",
    "scaler = StandardScaler()\n",
    "X_train_scaled = scaler.fit_transform(X_train)\n",
    "X_test_scaled = scaler.transform(X_test)"
   ]
  },
  {
   "cell_type": "code",
   "execution_count": 8,
   "id": "4ab67e9a-d06d-4070-a078-6f95f447e9a1",
   "metadata": {},
   "outputs": [
    {
     "name": "stdout",
     "output_type": "stream",
     "text": [
      "Best alpha: 200.9233\n",
      "Best l1_ratio: 1.00\n"
     ]
    }
   ],
   "source": [
    "# ⚙️ Elastic Net with Cross-Validation\n",
    "alphas = np.logspace(-4, 4, 100) #Lasso regularization parameter\n",
    "l1_ratios = np.linspace(0.1, 1.0, 10) #ridge regularization parameter \n",
    "\n",
    "elastic_cv = ElasticNetCV(alphas=alphas, l1_ratio=l1_ratios, cv=5, random_state=42)\n",
    "elastic_cv.fit(X_train_scaled, y_train)\n",
    "\n",
    "# 🏆 Best alpha and l1_ratio\n",
    "best_alpha = elastic_cv.alpha_\n",
    "best_l1_ratio = elastic_cv.l1_ratio_\n",
    "print(f\"Best alpha: {best_alpha:.4f}\")\n",
    "print(f\"Best l1_ratio: {best_l1_ratio:.2f}\")"
   ]
  },
  {
   "cell_type": "code",
   "execution_count": 9,
   "id": "eacd04b5-4ff3-4362-8eab-171d1e40644e",
   "metadata": {},
   "outputs": [],
   "source": [
    "# 🔮 Predict\n",
    "y_pred = elastic_cv.predict(X_test_scaled)"
   ]
  },
  {
   "cell_type": "code",
   "execution_count": 10,
   "id": "ac7d1a11-cbd5-44ea-99cc-a7c416db8c68",
   "metadata": {},
   "outputs": [
    {
     "name": "stdout",
     "output_type": "stream",
     "text": [
      "\n",
      "📈 Evaluation Metrics:\n",
      "MAE: 6269.02\n",
      "MSE: 50053750.71\n",
      "RMSE: 7074.87\n",
      "R² Score: 0.90\n"
     ]
    }
   ],
   "source": [
    "# Evaluate\n",
    "mse = mean_squared_error(y_test, y_pred)\n",
    "mae = mean_absolute_error(y_test, y_pred)\n",
    "rmse = np.sqrt(mse)\n",
    "r2 = r2_score(y_test, y_pred)\n",
    "\n",
    "print(\"\\n📈 Evaluation Metrics:\")\n",
    "print(f\"MAE: {mae:.2f}\")\n",
    "print(f\"MSE: {mse:.2f}\")\n",
    "print(f\"RMSE: {rmse:.2f}\")\n",
    "print(f\"R² Score: {r2:.2f}\")"
   ]
  },
  {
   "cell_type": "code",
   "execution_count": null,
   "id": "a603b79a-d86c-49d2-b094-06697fa6a1b3",
   "metadata": {},
   "outputs": [],
   "source": [
    "# NOTE, for same data set we got more error than linear regression, because we are working with only 1 feature. ideally lasso, ridge and elastic net work best with multiple features\n"
   ]
  }
 ],
 "metadata": {
  "kernelspec": {
   "display_name": "Python 3 (ipykernel)",
   "language": "python",
   "name": "python3"
  },
  "language_info": {
   "codemirror_mode": {
    "name": "ipython",
    "version": 3
   },
   "file_extension": ".py",
   "mimetype": "text/x-python",
   "name": "python",
   "nbconvert_exporter": "python",
   "pygments_lexer": "ipython3",
   "version": "3.13.3"
  }
 },
 "nbformat": 4,
 "nbformat_minor": 5
}
